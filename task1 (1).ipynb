{
 "cells": [
  {
   "cell_type": "markdown",
   "id": "2745bd88-0c78-48fe-ba1b-dc3915302e69",
   "metadata": {},
   "source": [
    "<div dir=\"rtl\" style=\"text-align: right;\">\n",
    "\n",
    "### تمرین ۱:\n",
    "برنامه‌ای بنویسید که سه عدد از ورودی دریافت کند و **بزرگ‌ترین عدد** را بدون استفاده از حلقه‌ها و توابع آماده max() یا sorted() پیدا کند.\n"
   ]
  },
  {
   "cell_type": "code",
   "execution_count": 3,
   "id": "30929b6e-f570-499e-a8e2-18f6a8ab60ee",
   "metadata": {},
   "outputs": [
    {
     "name": "stdout",
     "output_type": "stream",
     "text": [
      "your bigest number its  9.0\n"
     ]
    }
   ],
   "source": [
    "num1=float(input(\"enter your first number\"))\n",
    "num2=float(input(\"enter your Second number\"))\n",
    "num3=float(input(\"enter your third number\"))\n",
    "\n",
    "if num1>=num2 and num1>=num3:\n",
    "    print(\"your bigest number its \",num1)\n",
    "elif num2>=num1 and num2>=num3:\n",
    "    print(\"your bigest number its \",num2)\n",
    "else:\n",
    "    print(\"your bigest number its \",num3)"
   ]
  },
  {
   "cell_type": "markdown",
   "id": "88361208-cd5a-4f11-a4e5-9c0177a7a663",
   "metadata": {},
   "source": [
    "<div dir=\"rtl\" style=\"text-align: right;\">\n",
    "\n",
    "### تمرین ۲:\n",
    "برنامه‌ای بنویسید که مقدار **RGB** سه رنگ را از ورودی دریافت کند و بررسی کند آیا رنگ **روشن است یا تیره**. اگر میانگین (R+G+B)/3 بزرگ‌تر از **۱۲۸** بود، خروجی True و در غیر این صورت False باشد.\n"
   ]
  },
  {
   "cell_type": "code",
   "execution_count": 6,
   "id": "473193b5-d417-4d33-8663-eea309a54081",
   "metadata": {},
   "outputs": [
    {
     "name": "stdout",
     "output_type": "stream",
     "text": [
      "True\n"
     ]
    }
   ],
   "source": [
    "R=float(input(\"your R coler number?\"))\n",
    "G=float(input(\"your G coler number?\"))\n",
    "B=float(input(\"your B coler number?\"))\n",
    "if R+G+B/3>= 128:\n",
    "    print(True)\n",
    "else:\n",
    "    print(False)"
   ]
  },
  {
   "cell_type": "markdown",
   "id": "b47e92c9-5c83-4589-8b6f-bc39030dc127",
   "metadata": {},
   "source": [
    "<div dir=\"rtl\" style=\"text-align: right;\">\n",
    "\n",
    "### تمرین ۴:\n",
    "برنامه‌ای بنویسید که سه طول از ورودی دریافت کند و بررسی کند که آیا این سه عدد می‌توانند تشکیل **یک مثلث معتبر** بدهند یا خیر. (شرط اعتبار یک مثلث: مجموع هر دو ضلع باید بزرگ‌تر از ضلع سوم باشد.)\n"
   ]
  },
  {
   "cell_type": "code",
   "execution_count": 11,
   "id": "f1aa27f7-6ac8-4e8b-a0f4-e255ccfc0dae",
   "metadata": {},
   "outputs": [
    {
     "name": "stdout",
     "output_type": "stream",
     "text": [
      "The lengths cannot form a valid triangle.\n"
     ]
    }
   ],
   "source": [
    "a = float(input(\"Enter the length of side a: \"))\n",
    "b = float(input(\"Enter the length of side b: \"))\n",
    "c = float(input(\"Enter the length of side c: \"))\n",
    "\n",
    "if (a + b > c) and (a + c > b) and (b + c > a):\n",
    "    print(\"The lengths can form a valid triangle.\")\n",
    "else:\n",
    "    print(\"The lengths cannot form a valid triangle.\")"
   ]
  },
  {
   "cell_type": "markdown",
   "id": "d5cfa92a-0053-4a65-ba41-bf3e5cd4fb9d",
   "metadata": {},
   "source": [
    "<div dir=\"rtl\" style=\"text-align: right;\">\n",
    "\n",
    "### تمرین ۳:\n",
    "برنامه‌ای بنویسید که یک عدد صحیح از ورودی دریافت کند و تعیین کند که آیا عدد **مضربی از ۳ یا ۵** است یا خیر. اگر عدد مضرب یکی از این دو بود، True و در غیر این صورت False چاپ کند.\n"
   ]
  },
  {
   "cell_type": "code",
   "execution_count": 17,
   "id": "0c1fdcf9-2735-41bc-98dd-0f3f9e1a65be",
   "metadata": {},
   "outputs": [
    {
     "name": "stdout",
     "output_type": "stream",
     "text": [
      "123456789009786543223456788 is a multiple of 3.\n"
     ]
    }
   ],
   "source": [
    "n = int(input(\"Enter an integer: \"))\n",
    "\n",
    "if n % 3 == 0 and n % 5 == 0:\n",
    "    print(f\"{n} is a multiple of both 3 and 5.\")\n",
    "elif n % 3 == 0:\n",
    "    print(f\"{n} is a multiple of 3.\")\n",
    "elif n % 5 == 0:\n",
    "    print(f\"{n} is a multiple of 5.\")\n",
    "else:\n",
    "    print(\"False\")\n"
   ]
  },
  {
   "cell_type": "markdown",
   "id": "c04c7990-0e72-4034-ad96-0c49afc7f2f1",
   "metadata": {},
   "source": [
    "<div dir=\"rtl\" style=\"text-align: right;\">\n",
    "\n",
    "### تمرین ۵:\n",
    "برنامه‌ای بنویسید که ضرایب یک معادله درجه دوم **\\( ax^2 + bx + c = 0 \\)** را از ورودی دریافت کرده و **ریشه‌های آن را محاسبه کند.**  \n",
    "اگر معادله **ریشه حقیقی ندارد**، پیام مناسبی نمایش داده شود.\n",
    "\n",
    "#### فرمول محاسبه ریشه‌ها:\n",
    "$$\n",
    "x = \\frac{-b \\pm \\sqrt{b^2 - 4ac}}{2a}\n",
    "$$\n",
    "\n",
    "</div>"
   ]
  },
  {
   "cell_type": "code",
   "execution_count": 7,
   "id": "114279e1-f150-47a2-a61a-cbd65da07b7c",
   "metadata": {},
   "outputs": [
    {
     "name": "stdout",
     "output_type": "stream",
     "text": [
      "The equation has no real roots.\n"
     ]
    }
   ],
   "source": [
    "import math\n",
    "\n",
    "a = float(input(\"Enter coefficient a: \"))\n",
    "b = float(input(\"Enter coefficient b: \"))\n",
    "c = float(input(\"Enter coefficient c: \"))\n",
    "\n",
    "\n",
    "delta = b**2 - 4*a*c\n",
    "\n",
    "if delta > 0:    \n",
    "    x1 = (-b + math.sqrt(delta)) / (2*a)\n",
    "    x2 = (-b - math.sqrt(delta)) / (2*a)\n",
    "    print(f\"The equation has two real roots: x1 = {x1} and x2 = {x2}\")\n",
    "elif delta == 0:\n",
    "    x = -b / (2*a)\n",
    "    print(f\"The equation has one real (double) root: x = {x}\")\n",
    "else:\n",
    "    print(\"The equation has no real roots.\")"
   ]
  },
  {
   "cell_type": "markdown",
   "id": "886027b3-170e-46d2-b26b-a94e03553844",
   "metadata": {},
   "source": [
    "<div dir=\"rtl\" style=\"text-align: right;\">\n",
    "\n",
    "### تمرین 6:\n",
    "برنامه‌ای بنویسید که یک عدد **\\( x \\)** را از ورودی دریافت کرده و مقدار تابع **\\( y \\)** را طبق رابطه زیر محاسبه کند:\n",
    "\n",
    "\\[\n",
    "y =\n",
    "\\begin{cases} \n",
    "2x + 5, & x > 10 \\\\ \n",
    "x^2 - 4x + 7, & 0 \\leq x \\leq 10 \\\\ \n",
    "|x| + 3, & x < 0 \n",
    "\\end{cases}\n",
    "\\]\n",
    "\n",
    "</div>"
   ]
  },
  {
   "cell_type": "code",
   "execution_count": 10,
   "id": "01f3d41e-f523-4a45-9175-e0c9c812164c",
   "metadata": {},
   "outputs": [
    {
     "name": "stdout",
     "output_type": "stream",
     "text": [
      "The value of y is: 19.0\n"
     ]
    }
   ],
   "source": [
    "x = float(input(\"Enter a number (x): \"))\n",
    "if x > 10:\n",
    "    y = 2 * x + 5\n",
    "elif 0 <= x <= 10:\n",
    "    y = x**2 - 4 * x + 7\n",
    "else:  # x < 0\n",
    "    y = abs(x) + 3\n",
    "print(f\"The value of y is: {y}\")"
   ]
  }
 ],
 "metadata": {
  "kernelspec": {
   "display_name": "Python 3",
   "language": "python",
   "name": "python3"
  },
  "language_info": {
   "codemirror_mode": {
    "name": "ipython",
    "version": 3
   },
   "file_extension": ".py",
   "mimetype": "text/x-python",
   "name": "python",
   "nbconvert_exporter": "python",
   "pygments_lexer": "ipython3",
   "version": "3.13.2"
  }
 },
 "nbformat": 4,
 "nbformat_minor": 5
}
